{
 "cells": [
  {
   "cell_type": "code",
   "execution_count": 1,
   "id": "079bbb1d",
   "metadata": {},
   "outputs": [
    {
     "name": "stdout",
     "output_type": "stream",
     "text": [
      "\n",
      "\u001b[1m[\u001b[0m\u001b[34;49mnotice\u001b[0m\u001b[1;39;49m]\u001b[0m\u001b[39;49m A new release of pip is available: \u001b[0m\u001b[31;49m25.1.1\u001b[0m\u001b[39;49m -> \u001b[0m\u001b[32;49m25.2\u001b[0m\n",
      "\u001b[1m[\u001b[0m\u001b[34;49mnotice\u001b[0m\u001b[1;39;49m]\u001b[0m\u001b[39;49m To update, run: \u001b[0m\u001b[32;49mpip install --upgrade pip\u001b[0m\n"
     ]
    }
   ],
   "source": [
    "!pip install ollama --quiet"
   ]
  },
  {
   "cell_type": "code",
   "execution_count": 2,
   "id": "d7db1810",
   "metadata": {},
   "outputs": [
    {
     "name": "stdout",
     "output_type": "stream",
     "text": [
      "\n",
      "\u001b[1m[\u001b[0m\u001b[34;49mnotice\u001b[0m\u001b[1;39;49m]\u001b[0m\u001b[39;49m A new release of pip is available: \u001b[0m\u001b[31;49m25.1.1\u001b[0m\u001b[39;49m -> \u001b[0m\u001b[32;49m25.2\u001b[0m\n",
      "\u001b[1m[\u001b[0m\u001b[34;49mnotice\u001b[0m\u001b[1;39;49m]\u001b[0m\u001b[39;49m To update, run: \u001b[0m\u001b[32;49mpip install --upgrade pip\u001b[0m\n"
     ]
    }
   ],
   "source": [
    "!pip install pydantic --quiet"
   ]
  },
  {
   "cell_type": "code",
   "execution_count": 3,
   "id": "30424594",
   "metadata": {},
   "outputs": [],
   "source": [
    "import ollama\n",
    "import re"
   ]
  },
  {
   "cell_type": "code",
   "execution_count": 6,
   "id": "4926effe",
   "metadata": {},
   "outputs": [],
   "source": [
    "CFGComponent_input = \"\"\"\n",
    "## WinBoat High-Level Data Flow Overview\n",
    "This analysis outlines the core architectural components and their interactions within the `winboat` project, optimized for diagram generation. The project's hybrid client-server and containerized virtualization nature is emphasized, focusing on the communication between the Electron host application and the containerized Windows guest.\n",
    "### Central Modules/Functions\n",
    "The following modules and functions are central to the project's operation, identified from the provided Control Flow Graph data:\n",
    "*   **Electron Application Lifecycle & Window Management:**\n",
    "    *   `main.app.on('activate') callback`: Handles application activation events, typically leading to window creation or restoration.\n",
    "    *   `main.app.on('window-all-closed') callback`: Manages the application's behavior when all windows are closed (e.g., quitting the app).\n",
    "    *   `main.createWindow`: Responsible for initializing and displaying new Electron browser windows.\n",
    "    *   `main.then() callback`: Likely part of an asynchronous flow, possibly related to application initialization or VM startup.\n",
    "*   **Guest Server Utilities:**\n",
    "    *   `guest_server.util.checkErr`: A utility function for error handling within the Go-based guest server.\n",
    "    *   `guest_server.util.copyFile`: Handles file copying operations within the guest server environment.\n",
    "### Logical Component Groupings\n",
    "The project is structured around five primary components, each with distinct responsibilities, suitable for clear visual boundaries in a diagram:\n",
    "1.  **Electron Host Application**\n",
    "    *   **Description:** The user-facing desktop application built with Electron. It provides the graphical user interface, orchestrates the virtualization process, and manages the lifecycle of the Windows VM.\n",
    "    *   **Responsibilities:** User interaction, GUI display, VM lifecycle management (start/stop), communication with backend services, and integration with remote display.\n",
    "    *   **Source Files:** `main.ts` (inferred from `main` prefix in CFG)\n",
    "2.  **Virtualization Manager (Docker/KVM)**\n",
    "    *   **Description:** The backend component responsible for provisioning, managing, and interacting with the Docker container that hosts the Windows Virtual Machine, leveraging KVM for hardware virtualization.\n",
    "    *   **Responsibilities:** Creating/destroying VM containers, managing VM resources, starting/stopping VMs, and network configuration for the guest.\n",
    "    *   **Source Files:** (Not directly visible in CFG, but expected in a `backend` or `docker` related directory)\n",
    "3.  **Windows Virtual Machine (Guest OS)**\n",
    "    *   **Description:** The virtualized Windows operating system running within a Docker container, managed by KVM. This is the environment where Windows applications execute.\n",
    "    *   **Responsibilities:** Hosting the WinBoat Guest Server, running Windows applications, and providing the environment for remote display.\n",
    "    *   **Source Files:** (Represents the entire guest OS, not a specific source file)\n",
    "4.  **WinBoat Guest Server**\n",
    "    *   **Description:** A custom Go-based server application running inside the Windows Virtual Machine. It acts as a critical bridge, enabling communication and control between the Electron Host Application and the guest Windows environment.\n",
    "    *   **Responsibilities:** Executing commands within the guest OS, facilitating file transfers, reporting guest status, and interacting with the FreeRDP server component.\n",
    "    *   **Source Files:** `guest_server/util.go` (inferred from `guest_server.util` prefix in CFG)\n",
    "5.  **FreeRDP Client**\n",
    "    *   **Description:** The component responsible for establishing and managing the Remote Desktop Protocol (RDP) connection. It enables the seamless display of Windows applications on the Linux host.\n",
    "    *   **Responsibilities:** Initiating RDP sessions, rendering remote application windows, and handling user input (keyboard/mouse) for remote applications.\n",
    "    *   **Source Files:** (Not directly visible in CFG, but expected in a `freerdp` or `integration` related directory)\n",
    "### Component Relationships and Interactions\n",
    "The following relationships define the data flow and control pathways between the components:\n",
    "*   **Electron Host Application -> Virtualization Manager (Docker/KVM)**\n",
    "    *   **Relationship:** Orchestrates VM Lifecycle\n",
    "    *   **Data Flow:** `Start VM Command`, `Stop VM Command`, `VM Configuration Parameters`\n",
    "*   **Virtualization Manager (Docker/KVM) -> Windows Virtual Machine (Guest OS)**\n",
    "    *   **Relationship:** Hosts & Manages\n",
    "    *   **Data Flow:** `VM Boot Signal`, `Resource Allocation`, `Network Configuration`\n",
    "*   **Windows Virtual Machine (Guest OS) -> WinBoat Guest Server**\n",
    "    *   **Relationship:** Executes Within\n",
    "    *   **Data Flow:** `OS Environment`, `File System Access`\n",
    "*   **Electron Host Application <-> WinBoat Guest Server**\n",
    "    *   **Relationship:** Command & Control / Status Reporting\n",
    "    *   **Data Flow (Host to Guest):** `Execute Guest Command`, `Request File Transfer`\n",
    "    *   **Data Flow (Guest to Host):** `Guest Status Update`, `File Transfer Confirmation`\n",
    "*   **Electron Host Application <-> FreeRDP Client**\n",
    "    *   **Relationship:** Manages Remote Session\n",
    "    *   **Data Flow:** `Initiate RDP Session`, `Display Remote Application`\n",
    "*   **FreeRDP Client <-> WinBoat Guest Server**\n",
    "    *   **Relationship:** RDP Communication\n",
    "    *   **Data Flow:** `RDP Protocol Data (Screen Updates)`, `User Input Events (Keyboard/Mouse)\n",
    "\"\"\""
   ]
  },
  {
   "cell_type": "code",
   "execution_count": 44,
   "id": "7c0eb495",
   "metadata": {},
   "outputs": [],
   "source": [
    "result = ollama.generate(model='llama3.2:latest', prompt=f\"\"\" \n",
    "You are a structured data extraction model.\n",
    "Extract information from the following text and output ONLY a valid JSON nothing else, Do not summarize or truncate with \"...\" anywhere.\n",
    "Do not include explanations, only valid JSON.\n",
    "that matches this structure:\n",
    "\n",
    "{{\n",
    "  \"components\": [\n",
    "    {{\n",
    "      \"name\": \"string\",\n",
    "      \"description\": \"string\",\n",
    "      \"responsibilities\": [\"string\"],\n",
    "      \"source_files\": [\"string\"]\n",
    "    }}\n",
    "  ],\n",
    "  \"components_relations\": [\n",
    "    {{\n",
    "      \"source\": \"string\",\n",
    "      \"target\": \"string\",\n",
    "      \"relationship\": \"string\",\n",
    "      \"data_flow\": [\"string\"]\n",
    "    }}\n",
    "  ]\n",
    "}}\n",
    "\n",
    "{query}\n",
    "\n",
    "\"\"\",think=False)"
   ]
  },
  {
   "cell_type": "code",
   "execution_count": 45,
   "id": "727cb00b",
   "metadata": {},
   "outputs": [
    {
     "name": "stdout",
     "output_type": "stream",
     "text": [
      "{\n",
      "  \"components\": [\n",
      "    {\n",
      "      \"name\": \"Electron Host Application\",\n",
      "      \"description\": \"The user-facing desktop application built with Electron. It provides the graphical user interface, orchestrates the virtualization process, and manages the lifecycle of the Windows VM.\",\n",
      "      \"responsibilities\": [\"User interaction\", \"GUI display\", \"VM lifecycle management (start/stop)\", \"communication with backend services\", \"integration with remote display\"],\n",
      "      \"source_files\": [\"main.ts\"]\n",
      "    },\n",
      "    {\n",
      "      \"name\": \"Virtualization Manager (Docker/KVM)\",\n",
      "      \"description\": \"The backend component responsible for provisioning, managing, and interacting with the Docker container that hosts the Windows Virtual Machine, leveraging KVM for hardware virtualization.\",\n",
      "      \"responsibilities\": [\"Creating/destroying VM containers\", \"managing VM resources\", \"starting/stopping VMs\", \"network configuration for the guest\"],\n",
      "      \"source_files\": []\n",
      "    },\n",
      "    {\n",
      "      \"name\": \"Windows Virtual Machine (Guest OS)\",\n",
      "      \"description\": \"The virtualized Windows operating system running within a Docker container, managed by KVM. This is the environment where Windows applications execute.\",\n",
      "      \"responsibilities\": [\"Hosting the WinBoat Guest Server\", \"running Windows applications\", \"providing the environment for remote display\"],\n",
      "      \"source_files\": []\n",
      "    },\n",
      "    {\n",
      "      \"name\": \"WinBoat Guest Server\",\n",
      "      \"description\": \"A custom Go-based server application running inside the Windows Virtual Machine. It acts as a critical bridge, enabling communication and control between the Electron Host Application and the guest Windows environment.\",\n",
      "      \"responsibilities\": [\"executing commands within the guest OS\", \"facilitating file transfers\", \"reporting guest status\", \"interacting with the FreeRDP server component\"],\n",
      "      \"source_files\": [\"guest_server/util.go\"]\n",
      "    },\n",
      "    {\n",
      "      \"name\": \"FreeRDP Client\",\n",
      "      \"description\": \"The component responsible for establishing and managing the Remote Desktop Protocol (RDP) connection. It enables the seamless display of Windows applications on the Linux host.\",\n",
      "      \"responsibilities\": [\"initiating RDP sessions\", \"rendering remote application windows\", \"handling user input (keyboard/mouse) for remote applications\"],\n",
      "      \"source_files\": []\n",
      "    }\n",
      "  ],\n",
      "  \"components_relations\": [\n",
      "    {\n",
      "      \"source\": \"Electron Host Application\",\n",
      "      \"target\": \"Virtualization Manager (Docker/KVM)\",\n",
      "      \"relationship\": \"Orchestrates VM Lifecycle\",\n",
      "      \"data_flow\": [\"Start VM Command\", \"Stop VM Command\", \"VM Configuration Parameters\"]\n",
      "    },\n",
      "    {\n",
      "      \"source\": \"Virtualization Manager (Docker/KVM)\",\n",
      "      \"target\": \"Windows Virtual Machine (Guest OS)\",\n",
      "      \"relationship\": \"Hosts & Manages\",\n",
      "      \"data_flow\": [\"VM Boot Signal\", \"Resource Allocation\", \"Network Configuration\"]\n",
      "    },\n",
      "    {\n",
      "      \"source\": \"Windows Virtual Machine (Guest OS)\",\n",
      "      \"target\": \"WinBoat Guest Server\",\n",
      "      \"relationship\": \"Executes Within\",\n",
      "      \"data_flow\": [\"OS Environment\", \"File System Access\"]\n",
      "    },\n",
      "    {\n",
      "      \"source\": \"Electron Host Application\",\n",
      "      \"target\": \"WinBoat Guest Server\",\n",
      "      \"relationship\": \"Command & Control / Status Reporting\",\n",
      "      \"data_flow\": [\"Execute Guest Command\", \"Request File Transfer\"]\n",
      "    },\n",
      "    {\n",
      "      \"source\": \"WinBoat Guest Server\",\n",
      "      \"target\": \"Electron Host Application\",\n",
      "      \"relationship\": \"Guest Status Update\",\n",
      "      \"data_flow\": [\"File Transfer Confirmation\"]\n",
      "    },\n",
      "    {\n",
      "      \"source\": \"Electron Host Application\",\n",
      "      \"target\": \"FreeRDP Client\",\n",
      "      \"relationship\": \"Manages Remote Session\",\n",
      "      \"data_flow\": [\"Initiate RDP Session\", \"Display Remote Application\"]\n",
      "    },\n",
      "    {\n",
      "      \"source\": \"FreeRDP Client\",\n",
      "      \"target\": \"WinBoat Guest Server\",\n",
      "      \"relationship\": \"RDP Communication\",\n",
      "      \"data_flow\": [\"RDP Protocol Data (Screen Updates)\", \"User Input Events (Keyboard/Mouse)\"]\n",
      "    }\n",
      "  ]\n",
      "}\n"
     ]
    }
   ],
   "source": [
    "print(result['response'])"
   ]
  },
  {
   "cell_type": "code",
   "execution_count": 48,
   "id": "40473df1",
   "metadata": {},
   "outputs": [],
   "source": [
    "from pydantic import BaseModel, Field\n",
    "from typing import List\n",
    "\n",
    "class CFGComponent(BaseModel):\n",
    "    name: str\n",
    "    description: str\n",
    "    responsibilities: List[str]\n",
    "    source_files: List[str]\n",
    "\n",
    "class Relation(BaseModel):\n",
    "    source: str\n",
    "    target: str\n",
    "    relationship: str\n",
    "    data_flow: List[str]\n",
    "\n",
    "class CFGAnalysisInsights(BaseModel):\n",
    "    components: List[CFGComponent]\n",
    "    components_relations: List[Relation]"
   ]
  },
  {
   "cell_type": "code",
   "execution_count": 50,
   "id": "076901f2",
   "metadata": {},
   "outputs": [],
   "source": [
    "def CFGAnalysisInsights(CFGAnalysisInsights_input):\n",
    "    result = ollama.generate(model='llama3.2:latest', prompt=f\"\"\" \n",
    "You are a structured data extraction model.\n",
    "Extract information from the following text and output ONLY a valid JSON nothing else, Do not summarize or truncate with \"...\" anywhere.\n",
    "Do not include explanations, only valid JSON.\n",
    "that matches this structure:\n",
    "\n",
    "{{\n",
    "  \"components\": [\n",
    "    {{\n",
    "      \"name\": \"string\",\n",
    "      \"description\": \"string\",\n",
    "      \"responsibilities\": [\"string\"],\n",
    "      \"source_files\": [\"string\"]\n",
    "    }}\n",
    "  ],\n",
    "  \"components_relations\": [\n",
    "    {{\n",
    "      \"source\": \"string\",\n",
    "      \"target\": \"string\",\n",
    "      \"relationship\": \"string\",\n",
    "      \"data_flow\": [\"string\"]\n",
    "    }}\n",
    "  ]\n",
    "}}\n",
    "\n",
    "{query}\n",
    "\n",
    "\"\"\",think=False)\n",
    "    \n",
    "    cleaned = re.sub(r\"^(```json|```|''')\", \"\", result['response'])\n",
    "    cleaned = re.sub(r\"(```|''')$\", \"\", cleaned)\n",
    "    cleaned = cleaned.strip()\n",
    "\n",
    "    return cleaned"
   ]
  },
  {
   "cell_type": "code",
   "execution_count": 5,
   "id": "50eeff4c",
   "metadata": {},
   "outputs": [
    {
     "ename": "NameError",
     "evalue": "name 'CFGAnalysisInsights' is not defined",
     "output_type": "error",
     "traceback": [
      "\u001b[31m---------------------------------------------------------------------------\u001b[39m",
      "\u001b[31mNameError\u001b[39m                                 Traceback (most recent call last)",
      "\u001b[36mCell\u001b[39m\u001b[36m \u001b[39m\u001b[32mIn[5]\u001b[39m\u001b[32m, line 1\u001b[39m\n\u001b[32m----> \u001b[39m\u001b[32m1\u001b[39m \u001b[38;5;28mprint\u001b[39m(\u001b[43mCFGAnalysisInsights\u001b[49m(CFGComponent_input))\n",
      "\u001b[31mNameError\u001b[39m: name 'CFGAnalysisInsights' is not defined"
     ]
    }
   ],
   "source": [
    "print(CFGAnalysisInsights(CFGComponent_input))"
   ]
  },
  {
   "cell_type": "code",
   "execution_count": null,
   "id": "5fbe7e47",
   "metadata": {},
   "outputs": [],
   "source": []
  }
 ],
 "metadata": {
  "kernelspec": {
   "display_name": "codeb",
   "language": "python",
   "name": "python3"
  },
  "language_info": {
   "codemirror_mode": {
    "name": "ipython",
    "version": 3
   },
   "file_extension": ".py",
   "mimetype": "text/x-python",
   "name": "python",
   "nbconvert_exporter": "python",
   "pygments_lexer": "ipython3",
   "version": "3.13.5"
  }
 },
 "nbformat": 4,
 "nbformat_minor": 5
}
